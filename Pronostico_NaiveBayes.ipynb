{
 "cells": [
  {
   "cell_type": "markdown",
   "id": "fba35c77",
   "metadata": {},
   "source": [
    "## Universidad Politécnica de San Luis Potosí\n",
    "### Minería de Datos\n",
    "### Ejemplo Mantenimiento Predictivo\n",
    "###  Algoritmo Naive Bayes\n",
    "\n",
    "En esta práctica aplicaremos el algoritmo Naive Bayes (Bayesiano ingenuo)\n",
    "a un conjunto de datos para pronosticar manteniento. \n",
    "Conjunto de datos tomados de:\n",
    "https://archive.ics.uci.edu/ml/datasets/AI4I+2020+Predictive+Maintenance+Dataset#"
   ]
  },
  {
   "cell_type": "markdown",
   "id": "2b38f22e",
   "metadata": {},
   "source": [
    "### Carga de librerías"
   ]
  },
  {
   "cell_type": "code",
   "execution_count": 2,
   "id": "d109a964",
   "metadata": {},
   "outputs": [],
   "source": [
    "import pandas as ps"
   ]
  },
  {
   "cell_type": "code",
   "execution_count": 2,
   "id": "7864143b",
   "metadata": {},
   "outputs": [],
   "source": [
    "import numpy as np"
   ]
  },
  {
   "cell_type": "code",
   "execution_count": 3,
   "id": "0a2ee142",
   "metadata": {},
   "outputs": [],
   "source": [
    "import seaborn as sb"
   ]
  },
  {
   "cell_type": "code",
   "execution_count": 4,
   "id": "11d5589d",
   "metadata": {},
   "outputs": [],
   "source": [
    "from sklearn.metrics import confusion_matrix\n",
    "from sklearn.metrics import classification_report\n",
    "from sklearn.naive_bayes import GaussianNB\n",
    "from sklearn.preprocessing import StandardScaler\n",
    "from sklearn.model_selection import train_test_split"
   ]
  },
  {
   "cell_type": "markdown",
   "id": "484a7def",
   "metadata": {},
   "source": [
    "# Conjunto de datos modelados a partir de una fresadora, consta de 10000 registros de datos almacenados como filas con 14 características en columnas.\n",
    "\n",
    "### Los datos:\n",
    "#### Udi: Identificador único (1-10000)\n",
    "#### ID: Id del producto\n",
    "#### Type: Calidad del producto\n",
    "### AT: Temperatura del aire\n",
    "### PT: Temperatura del proceso\n",
    "### RS:Velocidad de rotación\n",
    "### T: Torque\n",
    "### TW: Desgaste de la herramienta\n",
    "### MF: Falla en máquina\n",
    "#### Twf, Hdf, Pwf, Osf, Rnf: 5 diferentes modos de fallo (independientes)"
   ]
  },
  {
   "cell_type": "markdown",
   "id": "5e72c002",
   "metadata": {},
   "source": [
    "### Lectura de datos"
   ]
  },
  {
   "cell_type": "code",
   "execution_count": 3,
   "id": "2cab40d8",
   "metadata": {},
   "outputs": [
    {
     "data": {
      "text/html": [
       "<div>\n",
       "<style scoped>\n",
       "    .dataframe tbody tr th:only-of-type {\n",
       "        vertical-align: middle;\n",
       "    }\n",
       "\n",
       "    .dataframe tbody tr th {\n",
       "        vertical-align: top;\n",
       "    }\n",
       "\n",
       "    .dataframe thead th {\n",
       "        text-align: right;\n",
       "    }\n",
       "</style>\n",
       "<table border=\"1\" class=\"dataframe\">\n",
       "  <thead>\n",
       "    <tr style=\"text-align: right;\">\n",
       "      <th></th>\n",
       "      <th>Udi</th>\n",
       "      <th>ID</th>\n",
       "      <th>Type</th>\n",
       "      <th>AT</th>\n",
       "      <th>PT</th>\n",
       "      <th>RS</th>\n",
       "      <th>T</th>\n",
       "      <th>TW</th>\n",
       "      <th>MF</th>\n",
       "      <th>Twf</th>\n",
       "      <th>Hdf</th>\n",
       "      <th>Pwf</th>\n",
       "      <th>Osf</th>\n",
       "      <th>Rnf</th>\n",
       "    </tr>\n",
       "  </thead>\n",
       "  <tbody>\n",
       "    <tr>\n",
       "      <th>0</th>\n",
       "      <td>1</td>\n",
       "      <td>M14860</td>\n",
       "      <td>M</td>\n",
       "      <td>298.1</td>\n",
       "      <td>308.6</td>\n",
       "      <td>1551</td>\n",
       "      <td>42.8</td>\n",
       "      <td>0</td>\n",
       "      <td>0</td>\n",
       "      <td>0</td>\n",
       "      <td>0</td>\n",
       "      <td>0</td>\n",
       "      <td>0</td>\n",
       "      <td>0</td>\n",
       "    </tr>\n",
       "    <tr>\n",
       "      <th>1</th>\n",
       "      <td>2</td>\n",
       "      <td>L47181</td>\n",
       "      <td>L</td>\n",
       "      <td>298.2</td>\n",
       "      <td>308.7</td>\n",
       "      <td>1408</td>\n",
       "      <td>46.3</td>\n",
       "      <td>3</td>\n",
       "      <td>0</td>\n",
       "      <td>0</td>\n",
       "      <td>0</td>\n",
       "      <td>0</td>\n",
       "      <td>0</td>\n",
       "      <td>0</td>\n",
       "    </tr>\n",
       "    <tr>\n",
       "      <th>2</th>\n",
       "      <td>3</td>\n",
       "      <td>L47182</td>\n",
       "      <td>L</td>\n",
       "      <td>298.1</td>\n",
       "      <td>308.5</td>\n",
       "      <td>1498</td>\n",
       "      <td>49.4</td>\n",
       "      <td>5</td>\n",
       "      <td>0</td>\n",
       "      <td>0</td>\n",
       "      <td>0</td>\n",
       "      <td>0</td>\n",
       "      <td>0</td>\n",
       "      <td>0</td>\n",
       "    </tr>\n",
       "    <tr>\n",
       "      <th>3</th>\n",
       "      <td>4</td>\n",
       "      <td>L47183</td>\n",
       "      <td>L</td>\n",
       "      <td>298.2</td>\n",
       "      <td>308.6</td>\n",
       "      <td>1433</td>\n",
       "      <td>39.5</td>\n",
       "      <td>7</td>\n",
       "      <td>0</td>\n",
       "      <td>0</td>\n",
       "      <td>0</td>\n",
       "      <td>0</td>\n",
       "      <td>0</td>\n",
       "      <td>0</td>\n",
       "    </tr>\n",
       "    <tr>\n",
       "      <th>4</th>\n",
       "      <td>5</td>\n",
       "      <td>L47184</td>\n",
       "      <td>L</td>\n",
       "      <td>298.2</td>\n",
       "      <td>308.7</td>\n",
       "      <td>1408</td>\n",
       "      <td>40.0</td>\n",
       "      <td>9</td>\n",
       "      <td>0</td>\n",
       "      <td>0</td>\n",
       "      <td>0</td>\n",
       "      <td>0</td>\n",
       "      <td>0</td>\n",
       "      <td>0</td>\n",
       "    </tr>\n",
       "    <tr>\n",
       "      <th>...</th>\n",
       "      <td>...</td>\n",
       "      <td>...</td>\n",
       "      <td>...</td>\n",
       "      <td>...</td>\n",
       "      <td>...</td>\n",
       "      <td>...</td>\n",
       "      <td>...</td>\n",
       "      <td>...</td>\n",
       "      <td>...</td>\n",
       "      <td>...</td>\n",
       "      <td>...</td>\n",
       "      <td>...</td>\n",
       "      <td>...</td>\n",
       "      <td>...</td>\n",
       "    </tr>\n",
       "    <tr>\n",
       "      <th>9995</th>\n",
       "      <td>9996</td>\n",
       "      <td>M24855</td>\n",
       "      <td>M</td>\n",
       "      <td>298.8</td>\n",
       "      <td>308.4</td>\n",
       "      <td>1604</td>\n",
       "      <td>29.5</td>\n",
       "      <td>14</td>\n",
       "      <td>0</td>\n",
       "      <td>0</td>\n",
       "      <td>0</td>\n",
       "      <td>0</td>\n",
       "      <td>0</td>\n",
       "      <td>0</td>\n",
       "    </tr>\n",
       "    <tr>\n",
       "      <th>9996</th>\n",
       "      <td>9997</td>\n",
       "      <td>H39410</td>\n",
       "      <td>H</td>\n",
       "      <td>298.9</td>\n",
       "      <td>308.4</td>\n",
       "      <td>1632</td>\n",
       "      <td>31.8</td>\n",
       "      <td>17</td>\n",
       "      <td>0</td>\n",
       "      <td>0</td>\n",
       "      <td>0</td>\n",
       "      <td>0</td>\n",
       "      <td>0</td>\n",
       "      <td>0</td>\n",
       "    </tr>\n",
       "    <tr>\n",
       "      <th>9997</th>\n",
       "      <td>9998</td>\n",
       "      <td>M24857</td>\n",
       "      <td>M</td>\n",
       "      <td>299.0</td>\n",
       "      <td>308.6</td>\n",
       "      <td>1645</td>\n",
       "      <td>33.4</td>\n",
       "      <td>22</td>\n",
       "      <td>0</td>\n",
       "      <td>0</td>\n",
       "      <td>0</td>\n",
       "      <td>0</td>\n",
       "      <td>0</td>\n",
       "      <td>0</td>\n",
       "    </tr>\n",
       "    <tr>\n",
       "      <th>9998</th>\n",
       "      <td>9999</td>\n",
       "      <td>H39412</td>\n",
       "      <td>H</td>\n",
       "      <td>299.0</td>\n",
       "      <td>308.7</td>\n",
       "      <td>1408</td>\n",
       "      <td>48.5</td>\n",
       "      <td>25</td>\n",
       "      <td>0</td>\n",
       "      <td>0</td>\n",
       "      <td>0</td>\n",
       "      <td>0</td>\n",
       "      <td>0</td>\n",
       "      <td>0</td>\n",
       "    </tr>\n",
       "    <tr>\n",
       "      <th>9999</th>\n",
       "      <td>10000</td>\n",
       "      <td>M24859</td>\n",
       "      <td>M</td>\n",
       "      <td>299.0</td>\n",
       "      <td>308.7</td>\n",
       "      <td>1500</td>\n",
       "      <td>40.2</td>\n",
       "      <td>30</td>\n",
       "      <td>0</td>\n",
       "      <td>0</td>\n",
       "      <td>0</td>\n",
       "      <td>0</td>\n",
       "      <td>0</td>\n",
       "      <td>0</td>\n",
       "    </tr>\n",
       "  </tbody>\n",
       "</table>\n",
       "<p>10000 rows × 14 columns</p>\n",
       "</div>"
      ],
      "text/plain": [
       "        Udi      ID Type     AT     PT    RS     T  TW  MF  Twf  Hdf  Pwf  \\\n",
       "0         1  M14860    M  298.1  308.6  1551  42.8   0   0    0    0    0   \n",
       "1         2  L47181    L  298.2  308.7  1408  46.3   3   0    0    0    0   \n",
       "2         3  L47182    L  298.1  308.5  1498  49.4   5   0    0    0    0   \n",
       "3         4  L47183    L  298.2  308.6  1433  39.5   7   0    0    0    0   \n",
       "4         5  L47184    L  298.2  308.7  1408  40.0   9   0    0    0    0   \n",
       "...     ...     ...  ...    ...    ...   ...   ...  ..  ..  ...  ...  ...   \n",
       "9995   9996  M24855    M  298.8  308.4  1604  29.5  14   0    0    0    0   \n",
       "9996   9997  H39410    H  298.9  308.4  1632  31.8  17   0    0    0    0   \n",
       "9997   9998  M24857    M  299.0  308.6  1645  33.4  22   0    0    0    0   \n",
       "9998   9999  H39412    H  299.0  308.7  1408  48.5  25   0    0    0    0   \n",
       "9999  10000  M24859    M  299.0  308.7  1500  40.2  30   0    0    0    0   \n",
       "\n",
       "      Osf  Rnf  \n",
       "0       0    0  \n",
       "1       0    0  \n",
       "2       0    0  \n",
       "3       0    0  \n",
       "4       0    0  \n",
       "...   ...  ...  \n",
       "9995    0    0  \n",
       "9996    0    0  \n",
       "9997    0    0  \n",
       "9998    0    0  \n",
       "9999    0    0  \n",
       "\n",
       "[10000 rows x 14 columns]"
      ]
     },
     "execution_count": 3,
     "metadata": {},
     "output_type": "execute_result"
    }
   ],
   "source": [
    "datos = ps.read_csv(\"F:/Prolag/ai4i2020_R.csv\")\n",
    "datos"
   ]
  },
  {
   "cell_type": "markdown",
   "id": "88a827ab",
   "metadata": {},
   "source": [
    "### Exploramos los datos"
   ]
  },
  {
   "cell_type": "code",
   "execution_count": 7,
   "id": "eeae5b6e",
   "metadata": {},
   "outputs": [
    {
     "data": {
      "text/html": [
       "<div>\n",
       "<style scoped>\n",
       "    .dataframe tbody tr th:only-of-type {\n",
       "        vertical-align: middle;\n",
       "    }\n",
       "\n",
       "    .dataframe tbody tr th {\n",
       "        vertical-align: top;\n",
       "    }\n",
       "\n",
       "    .dataframe thead th {\n",
       "        text-align: right;\n",
       "    }\n",
       "</style>\n",
       "<table border=\"1\" class=\"dataframe\">\n",
       "  <thead>\n",
       "    <tr style=\"text-align: right;\">\n",
       "      <th></th>\n",
       "      <th>Udi</th>\n",
       "      <th>ID</th>\n",
       "      <th>Type</th>\n",
       "      <th>AT</th>\n",
       "      <th>PT</th>\n",
       "      <th>RS</th>\n",
       "      <th>T</th>\n",
       "      <th>TW</th>\n",
       "      <th>MF</th>\n",
       "      <th>Twf</th>\n",
       "      <th>Hdf</th>\n",
       "      <th>Pwf</th>\n",
       "      <th>Osf</th>\n",
       "      <th>Rnf</th>\n",
       "    </tr>\n",
       "  </thead>\n",
       "  <tbody>\n",
       "    <tr>\n",
       "      <th>0</th>\n",
       "      <td>1</td>\n",
       "      <td>M14860</td>\n",
       "      <td>M</td>\n",
       "      <td>298.1</td>\n",
       "      <td>308.6</td>\n",
       "      <td>1551</td>\n",
       "      <td>42.8</td>\n",
       "      <td>0</td>\n",
       "      <td>0</td>\n",
       "      <td>0</td>\n",
       "      <td>0</td>\n",
       "      <td>0</td>\n",
       "      <td>0</td>\n",
       "      <td>0</td>\n",
       "    </tr>\n",
       "    <tr>\n",
       "      <th>1</th>\n",
       "      <td>2</td>\n",
       "      <td>L47181</td>\n",
       "      <td>L</td>\n",
       "      <td>298.2</td>\n",
       "      <td>308.7</td>\n",
       "      <td>1408</td>\n",
       "      <td>46.3</td>\n",
       "      <td>3</td>\n",
       "      <td>0</td>\n",
       "      <td>0</td>\n",
       "      <td>0</td>\n",
       "      <td>0</td>\n",
       "      <td>0</td>\n",
       "      <td>0</td>\n",
       "    </tr>\n",
       "    <tr>\n",
       "      <th>2</th>\n",
       "      <td>3</td>\n",
       "      <td>L47182</td>\n",
       "      <td>L</td>\n",
       "      <td>298.1</td>\n",
       "      <td>308.5</td>\n",
       "      <td>1498</td>\n",
       "      <td>49.4</td>\n",
       "      <td>5</td>\n",
       "      <td>0</td>\n",
       "      <td>0</td>\n",
       "      <td>0</td>\n",
       "      <td>0</td>\n",
       "      <td>0</td>\n",
       "      <td>0</td>\n",
       "    </tr>\n",
       "  </tbody>\n",
       "</table>\n",
       "</div>"
      ],
      "text/plain": [
       "   Udi      ID Type     AT     PT    RS     T  TW  MF  Twf  Hdf  Pwf  Osf  Rnf\n",
       "0    1  M14860    M  298.1  308.6  1551  42.8   0   0    0    0    0    0    0\n",
       "1    2  L47181    L  298.2  308.7  1408  46.3   3   0    0    0    0    0    0\n",
       "2    3  L47182    L  298.1  308.5  1498  49.4   5   0    0    0    0    0    0"
      ]
     },
     "execution_count": 7,
     "metadata": {},
     "output_type": "execute_result"
    }
   ],
   "source": [
    "datos.head(3)"
   ]
  },
  {
   "cell_type": "code",
   "execution_count": 8,
   "id": "c7888ebe",
   "metadata": {},
   "outputs": [
    {
     "name": "stdout",
     "output_type": "stream",
     "text": [
      "<class 'pandas.core.frame.DataFrame'>\n",
      "RangeIndex: 10000 entries, 0 to 9999\n",
      "Data columns (total 14 columns):\n",
      " #   Column  Non-Null Count  Dtype  \n",
      "---  ------  --------------  -----  \n",
      " 0   Udi     10000 non-null  int64  \n",
      " 1   ID      10000 non-null  object \n",
      " 2   Type    10000 non-null  object \n",
      " 3   AT      10000 non-null  float64\n",
      " 4   PT      10000 non-null  float64\n",
      " 5   RS      10000 non-null  int64  \n",
      " 6   T       10000 non-null  float64\n",
      " 7   TW      10000 non-null  int64  \n",
      " 8   MF      10000 non-null  int64  \n",
      " 9   Twf     10000 non-null  int64  \n",
      " 10  Hdf     10000 non-null  int64  \n",
      " 11  Pwf     10000 non-null  int64  \n",
      " 12  Osf     10000 non-null  int64  \n",
      " 13  Rnf     10000 non-null  int64  \n",
      "dtypes: float64(3), int64(9), object(2)\n",
      "memory usage: 1.1+ MB\n"
     ]
    }
   ],
   "source": [
    "datos.info()"
   ]
  },
  {
   "cell_type": "code",
   "execution_count": 9,
   "id": "0523daec",
   "metadata": {},
   "outputs": [
    {
     "name": "stdout",
     "output_type": "stream",
     "text": [
      "MF\n",
      "0    9661\n",
      "1     339\n",
      "dtype: int64\n"
     ]
    }
   ],
   "source": [
    "# ver cuántos hay de cada clase\n",
    "print(datos.groupby('MF').size())"
   ]
  },
  {
   "cell_type": "code",
   "execution_count": 10,
   "id": "4caa7256",
   "metadata": {},
   "outputs": [
    {
     "data": {
      "text/plain": [
       "<AxesSubplot:>"
      ]
     },
     "execution_count": 10,
     "metadata": {},
     "output_type": "execute_result"
    },
    {
     "data": {
      "image/png": "[encoded data removed]",
      "text/plain": [
       "<Figure size 432x288 with 1 Axes>"
      ]
     },
     "metadata": {
      "needs_background": "light"
     },
     "output_type": "display_data"
    }
   ],
   "source": [
    "# ver histograma\n",
    "datos.MF.hist()"
   ]
  },
  {
   "cell_type": "code",
   "execution_count": 11,
   "id": "45f3c43d",
   "metadata": {},
   "outputs": [
    {
     "data": {
      "text/plain": [
       "<seaborn.axisgrid.FacetGrid at 0x1ea5478dbb0>"
      ]
     },
     "execution_count": 11,
     "metadata": {},
     "output_type": "execute_result"
    },
    {
     "data": {
      "image/png": "[encoded data removed]",
      "text/plain": [
       "<Figure size 360x360 with 1 Axes>"
      ]
     },
     "metadata": {
      "needs_background": "light"
     },
     "output_type": "display_data"
    }
   ],
   "source": [
    "sb.catplot(x='MF', data=datos, kind=\"count\")"
   ]
  },
  {
   "cell_type": "code",
   "execution_count": 15,
   "id": "88333c1f",
   "metadata": {},
   "outputs": [
    {
     "data": {
      "text/html": [
       "<div>\n",
       "<style scoped>\n",
       "    .dataframe tbody tr th:only-of-type {\n",
       "        vertical-align: middle;\n",
       "    }\n",
       "\n",
       "    .dataframe tbody tr th {\n",
       "        vertical-align: top;\n",
       "    }\n",
       "\n",
       "    .dataframe thead th {\n",
       "        text-align: right;\n",
       "    }\n",
       "</style>\n",
       "<table border=\"1\" class=\"dataframe\">\n",
       "  <thead>\n",
       "    <tr style=\"text-align: right;\">\n",
       "      <th></th>\n",
       "      <th>AT</th>\n",
       "      <th>PT</th>\n",
       "      <th>RS</th>\n",
       "      <th>T</th>\n",
       "      <th>TW</th>\n",
       "      <th>MF</th>\n",
       "    </tr>\n",
       "  </thead>\n",
       "  <tbody>\n",
       "    <tr>\n",
       "      <th>0</th>\n",
       "      <td>298.1</td>\n",
       "      <td>308.6</td>\n",
       "      <td>1551</td>\n",
       "      <td>42.8</td>\n",
       "      <td>0</td>\n",
       "      <td>0</td>\n",
       "    </tr>\n",
       "    <tr>\n",
       "      <th>1</th>\n",
       "      <td>298.2</td>\n",
       "      <td>308.7</td>\n",
       "      <td>1408</td>\n",
       "      <td>46.3</td>\n",
       "      <td>3</td>\n",
       "      <td>0</td>\n",
       "    </tr>\n",
       "    <tr>\n",
       "      <th>2</th>\n",
       "      <td>298.1</td>\n",
       "      <td>308.5</td>\n",
       "      <td>1498</td>\n",
       "      <td>49.4</td>\n",
       "      <td>5</td>\n",
       "      <td>0</td>\n",
       "    </tr>\n",
       "    <tr>\n",
       "      <th>3</th>\n",
       "      <td>298.2</td>\n",
       "      <td>308.6</td>\n",
       "      <td>1433</td>\n",
       "      <td>39.5</td>\n",
       "      <td>7</td>\n",
       "      <td>0</td>\n",
       "    </tr>\n",
       "    <tr>\n",
       "      <th>4</th>\n",
       "      <td>298.2</td>\n",
       "      <td>308.7</td>\n",
       "      <td>1408</td>\n",
       "      <td>40.0</td>\n",
       "      <td>9</td>\n",
       "      <td>0</td>\n",
       "    </tr>\n",
       "    <tr>\n",
       "      <th>...</th>\n",
       "      <td>...</td>\n",
       "      <td>...</td>\n",
       "      <td>...</td>\n",
       "      <td>...</td>\n",
       "      <td>...</td>\n",
       "      <td>...</td>\n",
       "    </tr>\n",
       "    <tr>\n",
       "      <th>9995</th>\n",
       "      <td>298.8</td>\n",
       "      <td>308.4</td>\n",
       "      <td>1604</td>\n",
       "      <td>29.5</td>\n",
       "      <td>14</td>\n",
       "      <td>0</td>\n",
       "    </tr>\n",
       "    <tr>\n",
       "      <th>9996</th>\n",
       "      <td>298.9</td>\n",
       "      <td>308.4</td>\n",
       "      <td>1632</td>\n",
       "      <td>31.8</td>\n",
       "      <td>17</td>\n",
       "      <td>0</td>\n",
       "    </tr>\n",
       "    <tr>\n",
       "      <th>9997</th>\n",
       "      <td>299.0</td>\n",
       "      <td>308.6</td>\n",
       "      <td>1645</td>\n",
       "      <td>33.4</td>\n",
       "      <td>22</td>\n",
       "      <td>0</td>\n",
       "    </tr>\n",
       "    <tr>\n",
       "      <th>9998</th>\n",
       "      <td>299.0</td>\n",
       "      <td>308.7</td>\n",
       "      <td>1408</td>\n",
       "      <td>48.5</td>\n",
       "      <td>25</td>\n",
       "      <td>0</td>\n",
       "    </tr>\n",
       "    <tr>\n",
       "      <th>9999</th>\n",
       "      <td>299.0</td>\n",
       "      <td>308.7</td>\n",
       "      <td>1500</td>\n",
       "      <td>40.2</td>\n",
       "      <td>30</td>\n",
       "      <td>0</td>\n",
       "    </tr>\n",
       "  </tbody>\n",
       "</table>\n",
       "<p>10000 rows × 6 columns</p>\n",
       "</div>"
      ],
      "text/plain": [
       "         AT     PT    RS     T  TW  MF\n",
       "0     298.1  308.6  1551  42.8   0   0\n",
       "1     298.2  308.7  1408  46.3   3   0\n",
       "2     298.1  308.5  1498  49.4   5   0\n",
       "3     298.2  308.6  1433  39.5   7   0\n",
       "4     298.2  308.7  1408  40.0   9   0\n",
       "...     ...    ...   ...   ...  ..  ..\n",
       "9995  298.8  308.4  1604  29.5  14   0\n",
       "9996  298.9  308.4  1632  31.8  17   0\n",
       "9997  299.0  308.6  1645  33.4  22   0\n",
       "9998  299.0  308.7  1408  48.5  25   0\n",
       "9999  299.0  308.7  1500  40.2  30   0\n",
       "\n",
       "[10000 rows x 6 columns]"
      ]
     },
     "execution_count": 15,
     "metadata": {},
     "output_type": "execute_result"
    }
   ],
   "source": [
    "datos2 = datos[['AT','PT','RS','T','TW','MF']]\n",
    "datos2"
   ]
  },
  {
   "cell_type": "markdown",
   "id": "99c65204",
   "metadata": {},
   "source": [
    "### Separamos conjunto de entrenamiento (70%)  y conjunto de prueba (30%) "
   ]
  },
  {
   "cell_type": "code",
   "execution_count": 20,
   "id": "9fa576d6",
   "metadata": {},
   "outputs": [],
   "source": [
    "X_train, X_test = train_test_split(datos2, test_size=0.3, random_state=42)"
   ]
  },
  {
   "cell_type": "code",
   "execution_count": 21,
   "id": "fd72790b",
   "metadata": {},
   "outputs": [
    {
     "data": {
      "text/html": [
       "<div>\n",
       "<style scoped>\n",
       "    .dataframe tbody tr th:only-of-type {\n",
       "        vertical-align: middle;\n",
       "    }\n",
       "\n",
       "    .dataframe tbody tr th {\n",
       "        vertical-align: top;\n",
       "    }\n",
       "\n",
       "    .dataframe thead th {\n",
       "        text-align: right;\n",
       "    }\n",
       "</style>\n",
       "<table border=\"1\" class=\"dataframe\">\n",
       "  <thead>\n",
       "    <tr style=\"text-align: right;\">\n",
       "      <th></th>\n",
       "      <th>AT</th>\n",
       "      <th>PT</th>\n",
       "      <th>RS</th>\n",
       "      <th>T</th>\n",
       "      <th>TW</th>\n",
       "      <th>MF</th>\n",
       "    </tr>\n",
       "  </thead>\n",
       "  <tbody>\n",
       "    <tr>\n",
       "      <th>9069</th>\n",
       "      <td>297.2</td>\n",
       "      <td>308.2</td>\n",
       "      <td>1678</td>\n",
       "      <td>28.1</td>\n",
       "      <td>133</td>\n",
       "      <td>0</td>\n",
       "    </tr>\n",
       "    <tr>\n",
       "      <th>2603</th>\n",
       "      <td>299.3</td>\n",
       "      <td>309.2</td>\n",
       "      <td>1334</td>\n",
       "      <td>46.3</td>\n",
       "      <td>31</td>\n",
       "      <td>0</td>\n",
       "    </tr>\n",
       "    <tr>\n",
       "      <th>7738</th>\n",
       "      <td>300.5</td>\n",
       "      <td>312.0</td>\n",
       "      <td>1263</td>\n",
       "      <td>60.8</td>\n",
       "      <td>146</td>\n",
       "      <td>0</td>\n",
       "    </tr>\n",
       "    <tr>\n",
       "      <th>1579</th>\n",
       "      <td>298.3</td>\n",
       "      <td>308.3</td>\n",
       "      <td>1444</td>\n",
       "      <td>43.8</td>\n",
       "      <td>176</td>\n",
       "      <td>0</td>\n",
       "    </tr>\n",
       "    <tr>\n",
       "      <th>5058</th>\n",
       "      <td>303.9</td>\n",
       "      <td>312.9</td>\n",
       "      <td>1526</td>\n",
       "      <td>42.5</td>\n",
       "      <td>194</td>\n",
       "      <td>0</td>\n",
       "    </tr>\n",
       "    <tr>\n",
       "      <th>...</th>\n",
       "      <td>...</td>\n",
       "      <td>...</td>\n",
       "      <td>...</td>\n",
       "      <td>...</td>\n",
       "      <td>...</td>\n",
       "      <td>...</td>\n",
       "    </tr>\n",
       "    <tr>\n",
       "      <th>5734</th>\n",
       "      <td>302.3</td>\n",
       "      <td>311.8</td>\n",
       "      <td>1369</td>\n",
       "      <td>56.2</td>\n",
       "      <td>208</td>\n",
       "      <td>1</td>\n",
       "    </tr>\n",
       "    <tr>\n",
       "      <th>5191</th>\n",
       "      <td>304.0</td>\n",
       "      <td>313.2</td>\n",
       "      <td>1416</td>\n",
       "      <td>46.0</td>\n",
       "      <td>128</td>\n",
       "      <td>0</td>\n",
       "    </tr>\n",
       "    <tr>\n",
       "      <th>5390</th>\n",
       "      <td>302.8</td>\n",
       "      <td>312.3</td>\n",
       "      <td>1483</td>\n",
       "      <td>47.2</td>\n",
       "      <td>223</td>\n",
       "      <td>0</td>\n",
       "    </tr>\n",
       "    <tr>\n",
       "      <th>860</th>\n",
       "      <td>296.1</td>\n",
       "      <td>306.9</td>\n",
       "      <td>1541</td>\n",
       "      <td>32.6</td>\n",
       "      <td>33</td>\n",
       "      <td>0</td>\n",
       "    </tr>\n",
       "    <tr>\n",
       "      <th>7270</th>\n",
       "      <td>300.2</td>\n",
       "      <td>310.4</td>\n",
       "      <td>1808</td>\n",
       "      <td>25.8</td>\n",
       "      <td>35</td>\n",
       "      <td>0</td>\n",
       "    </tr>\n",
       "  </tbody>\n",
       "</table>\n",
       "<p>7000 rows × 6 columns</p>\n",
       "</div>"
      ],
      "text/plain": [
       "         AT     PT    RS     T   TW  MF\n",
       "9069  297.2  308.2  1678  28.1  133   0\n",
       "2603  299.3  309.2  1334  46.3   31   0\n",
       "7738  300.5  312.0  1263  60.8  146   0\n",
       "1579  298.3  308.3  1444  43.8  176   0\n",
       "5058  303.9  312.9  1526  42.5  194   0\n",
       "...     ...    ...   ...   ...  ...  ..\n",
       "5734  302.3  311.8  1369  56.2  208   1\n",
       "5191  304.0  313.2  1416  46.0  128   0\n",
       "5390  302.8  312.3  1483  47.2  223   0\n",
       "860   296.1  306.9  1541  32.6   33   0\n",
       "7270  300.2  310.4  1808  25.8   35   0\n",
       "\n",
       "[7000 rows x 6 columns]"
      ]
     },
     "execution_count": 21,
     "metadata": {},
     "output_type": "execute_result"
    }
   ],
   "source": [
    "X_train"
   ]
  },
  {
   "cell_type": "markdown",
   "id": "9ed500bd",
   "metadata": {},
   "source": [
    "### Separamos variable dependiente en \"y\", variables independientes en \"X\""
   ]
  },
  {
   "cell_type": "code",
   "execution_count": 22,
   "id": "8ba674ce",
   "metadata": {},
   "outputs": [],
   "source": [
    "y_train = X_train['MF']\n",
    "y_test = X_test['MF']"
   ]
  },
  {
   "cell_type": "code",
   "execution_count": 23,
   "id": "19c33a7d",
   "metadata": {},
   "outputs": [
    {
     "data": {
      "text/html": [
       "<div>\n",
       "<style scoped>\n",
       "    .dataframe tbody tr th:only-of-type {\n",
       "        vertical-align: middle;\n",
       "    }\n",
       "\n",
       "    .dataframe tbody tr th {\n",
       "        vertical-align: top;\n",
       "    }\n",
       "\n",
       "    .dataframe thead th {\n",
       "        text-align: right;\n",
       "    }\n",
       "</style>\n",
       "<table border=\"1\" class=\"dataframe\">\n",
       "  <thead>\n",
       "    <tr style=\"text-align: right;\">\n",
       "      <th></th>\n",
       "      <th>AT</th>\n",
       "      <th>PT</th>\n",
       "      <th>RS</th>\n",
       "      <th>T</th>\n",
       "      <th>TW</th>\n",
       "    </tr>\n",
       "  </thead>\n",
       "  <tbody>\n",
       "    <tr>\n",
       "      <th>9069</th>\n",
       "      <td>297.2</td>\n",
       "      <td>308.2</td>\n",
       "      <td>1678</td>\n",
       "      <td>28.1</td>\n",
       "      <td>133</td>\n",
       "    </tr>\n",
       "    <tr>\n",
       "      <th>2603</th>\n",
       "      <td>299.3</td>\n",
       "      <td>309.2</td>\n",
       "      <td>1334</td>\n",
       "      <td>46.3</td>\n",
       "      <td>31</td>\n",
       "    </tr>\n",
       "    <tr>\n",
       "      <th>7738</th>\n",
       "      <td>300.5</td>\n",
       "      <td>312.0</td>\n",
       "      <td>1263</td>\n",
       "      <td>60.8</td>\n",
       "      <td>146</td>\n",
       "    </tr>\n",
       "    <tr>\n",
       "      <th>1579</th>\n",
       "      <td>298.3</td>\n",
       "      <td>308.3</td>\n",
       "      <td>1444</td>\n",
       "      <td>43.8</td>\n",
       "      <td>176</td>\n",
       "    </tr>\n",
       "    <tr>\n",
       "      <th>5058</th>\n",
       "      <td>303.9</td>\n",
       "      <td>312.9</td>\n",
       "      <td>1526</td>\n",
       "      <td>42.5</td>\n",
       "      <td>194</td>\n",
       "    </tr>\n",
       "    <tr>\n",
       "      <th>...</th>\n",
       "      <td>...</td>\n",
       "      <td>...</td>\n",
       "      <td>...</td>\n",
       "      <td>...</td>\n",
       "      <td>...</td>\n",
       "    </tr>\n",
       "    <tr>\n",
       "      <th>5734</th>\n",
       "      <td>302.3</td>\n",
       "      <td>311.8</td>\n",
       "      <td>1369</td>\n",
       "      <td>56.2</td>\n",
       "      <td>208</td>\n",
       "    </tr>\n",
       "    <tr>\n",
       "      <th>5191</th>\n",
       "      <td>304.0</td>\n",
       "      <td>313.2</td>\n",
       "      <td>1416</td>\n",
       "      <td>46.0</td>\n",
       "      <td>128</td>\n",
       "    </tr>\n",
       "    <tr>\n",
       "      <th>5390</th>\n",
       "      <td>302.8</td>\n",
       "      <td>312.3</td>\n",
       "      <td>1483</td>\n",
       "      <td>47.2</td>\n",
       "      <td>223</td>\n",
       "    </tr>\n",
       "    <tr>\n",
       "      <th>860</th>\n",
       "      <td>296.1</td>\n",
       "      <td>306.9</td>\n",
       "      <td>1541</td>\n",
       "      <td>32.6</td>\n",
       "      <td>33</td>\n",
       "    </tr>\n",
       "    <tr>\n",
       "      <th>7270</th>\n",
       "      <td>300.2</td>\n",
       "      <td>310.4</td>\n",
       "      <td>1808</td>\n",
       "      <td>25.8</td>\n",
       "      <td>35</td>\n",
       "    </tr>\n",
       "  </tbody>\n",
       "</table>\n",
       "<p>7000 rows × 5 columns</p>\n",
       "</div>"
      ],
      "text/plain": [
       "         AT     PT    RS     T   TW\n",
       "9069  297.2  308.2  1678  28.1  133\n",
       "2603  299.3  309.2  1334  46.3   31\n",
       "7738  300.5  312.0  1263  60.8  146\n",
       "1579  298.3  308.3  1444  43.8  176\n",
       "5058  303.9  312.9  1526  42.5  194\n",
       "...     ...    ...   ...   ...  ...\n",
       "5734  302.3  311.8  1369  56.2  208\n",
       "5191  304.0  313.2  1416  46.0  128\n",
       "5390  302.8  312.3  1483  47.2  223\n",
       "860   296.1  306.9  1541  32.6   33\n",
       "7270  300.2  310.4  1808  25.8   35\n",
       "\n",
       "[7000 rows x 5 columns]"
      ]
     },
     "execution_count": 23,
     "metadata": {},
     "output_type": "execute_result"
    }
   ],
   "source": [
    "X_train = X_train.drop(['MF'], axis=1)\n",
    "X_train"
   ]
  },
  {
   "cell_type": "code",
   "execution_count": 24,
   "id": "03b99c60",
   "metadata": {},
   "outputs": [
    {
     "data": {
      "text/plain": [
       "9069    0\n",
       "2603    0\n",
       "7738    0\n",
       "1579    0\n",
       "5058    0\n",
       "       ..\n",
       "5734    1\n",
       "5191    0\n",
       "5390    0\n",
       "860     0\n",
       "7270    0\n",
       "Name: MF, Length: 7000, dtype: int64"
      ]
     },
     "execution_count": 24,
     "metadata": {},
     "output_type": "execute_result"
    }
   ],
   "source": [
    "y_train"
   ]
  },
  {
   "cell_type": "code",
   "execution_count": 25,
   "id": "107f2a0d",
   "metadata": {
    "scrolled": true
   },
   "outputs": [
    {
     "data": {
      "text/html": [
       "<div>\n",
       "<style scoped>\n",
       "    .dataframe tbody tr th:only-of-type {\n",
       "        vertical-align: middle;\n",
       "    }\n",
       "\n",
       "    .dataframe tbody tr th {\n",
       "        vertical-align: top;\n",
       "    }\n",
       "\n",
       "    .dataframe thead th {\n",
       "        text-align: right;\n",
       "    }\n",
       "</style>\n",
       "<table border=\"1\" class=\"dataframe\">\n",
       "  <thead>\n",
       "    <tr style=\"text-align: right;\">\n",
       "      <th></th>\n",
       "      <th>AT</th>\n",
       "      <th>PT</th>\n",
       "      <th>RS</th>\n",
       "      <th>T</th>\n",
       "      <th>TW</th>\n",
       "    </tr>\n",
       "  </thead>\n",
       "  <tbody>\n",
       "    <tr>\n",
       "      <th>6252</th>\n",
       "      <td>300.8</td>\n",
       "      <td>310.3</td>\n",
       "      <td>1538</td>\n",
       "      <td>36.1</td>\n",
       "      <td>198</td>\n",
       "    </tr>\n",
       "    <tr>\n",
       "      <th>4684</th>\n",
       "      <td>303.6</td>\n",
       "      <td>311.8</td>\n",
       "      <td>1421</td>\n",
       "      <td>44.8</td>\n",
       "      <td>101</td>\n",
       "    </tr>\n",
       "    <tr>\n",
       "      <th>1731</th>\n",
       "      <td>298.3</td>\n",
       "      <td>307.9</td>\n",
       "      <td>1485</td>\n",
       "      <td>42.0</td>\n",
       "      <td>117</td>\n",
       "    </tr>\n",
       "    <tr>\n",
       "      <th>4742</th>\n",
       "      <td>303.3</td>\n",
       "      <td>311.3</td>\n",
       "      <td>1592</td>\n",
       "      <td>33.7</td>\n",
       "      <td>14</td>\n",
       "    </tr>\n",
       "    <tr>\n",
       "      <th>4521</th>\n",
       "      <td>302.4</td>\n",
       "      <td>310.4</td>\n",
       "      <td>1865</td>\n",
       "      <td>23.9</td>\n",
       "      <td>129</td>\n",
       "    </tr>\n",
       "    <tr>\n",
       "      <th>...</th>\n",
       "      <td>...</td>\n",
       "      <td>...</td>\n",
       "      <td>...</td>\n",
       "      <td>...</td>\n",
       "      <td>...</td>\n",
       "    </tr>\n",
       "    <tr>\n",
       "      <th>8014</th>\n",
       "      <td>300.9</td>\n",
       "      <td>312.0</td>\n",
       "      <td>1500</td>\n",
       "      <td>44.2</td>\n",
       "      <td>188</td>\n",
       "    </tr>\n",
       "    <tr>\n",
       "      <th>1074</th>\n",
       "      <td>297.0</td>\n",
       "      <td>307.9</td>\n",
       "      <td>1595</td>\n",
       "      <td>31.7</td>\n",
       "      <td>170</td>\n",
       "    </tr>\n",
       "    <tr>\n",
       "      <th>3063</th>\n",
       "      <td>300.0</td>\n",
       "      <td>309.1</td>\n",
       "      <td>1431</td>\n",
       "      <td>45.4</td>\n",
       "      <td>90</td>\n",
       "    </tr>\n",
       "    <tr>\n",
       "      <th>6487</th>\n",
       "      <td>300.6</td>\n",
       "      <td>309.8</td>\n",
       "      <td>1541</td>\n",
       "      <td>36.2</td>\n",
       "      <td>166</td>\n",
       "    </tr>\n",
       "    <tr>\n",
       "      <th>4705</th>\n",
       "      <td>303.6</td>\n",
       "      <td>311.8</td>\n",
       "      <td>1614</td>\n",
       "      <td>33.2</td>\n",
       "      <td>155</td>\n",
       "    </tr>\n",
       "  </tbody>\n",
       "</table>\n",
       "<p>3000 rows × 5 columns</p>\n",
       "</div>"
      ],
      "text/plain": [
       "         AT     PT    RS     T   TW\n",
       "6252  300.8  310.3  1538  36.1  198\n",
       "4684  303.6  311.8  1421  44.8  101\n",
       "1731  298.3  307.9  1485  42.0  117\n",
       "4742  303.3  311.3  1592  33.7   14\n",
       "4521  302.4  310.4  1865  23.9  129\n",
       "...     ...    ...   ...   ...  ...\n",
       "8014  300.9  312.0  1500  44.2  188\n",
       "1074  297.0  307.9  1595  31.7  170\n",
       "3063  300.0  309.1  1431  45.4   90\n",
       "6487  300.6  309.8  1541  36.2  166\n",
       "4705  303.6  311.8  1614  33.2  155\n",
       "\n",
       "[3000 rows x 5 columns]"
      ]
     },
     "execution_count": 25,
     "metadata": {},
     "output_type": "execute_result"
    }
   ],
   "source": [
    "X_test = X_test.drop(['MF'], axis=1)\n",
    "X_test"
   ]
  },
  {
   "cell_type": "code",
   "execution_count": 26,
   "id": "b64c884d",
   "metadata": {},
   "outputs": [
    {
     "data": {
      "text/plain": [
       "6252    0\n",
       "4684    1\n",
       "1731    0\n",
       "4742    0\n",
       "4521    0\n",
       "       ..\n",
       "8014    0\n",
       "1074    0\n",
       "3063    0\n",
       "6487    0\n",
       "4705    0\n",
       "Name: MF, Length: 3000, dtype: int64"
      ]
     },
     "execution_count": 26,
     "metadata": {},
     "output_type": "execute_result"
    }
   ],
   "source": [
    "y_test"
   ]
  },
  {
   "cell_type": "code",
   "execution_count": 27,
   "id": "a44d718d",
   "metadata": {},
   "outputs": [],
   "source": [
    "gauss = GaussianNB()\n",
    "\n",
    "# Para datos contínuos hay que utilizar\n",
    "# gauss = GaussianNB()"
   ]
  },
  {
   "cell_type": "markdown",
   "id": "d424ce27",
   "metadata": {},
   "source": [
    "### Entrenamos nuestro modelo (datos de entrenamiento 70%)"
   ]
  },
  {
   "cell_type": "code",
   "execution_count": 32,
   "id": "07d0aac8",
   "metadata": {},
   "outputs": [
    {
     "data": {
      "text/plain": [
       "GaussianNB()"
      ]
     },
     "execution_count": 32,
     "metadata": {},
     "output_type": "execute_result"
    }
   ],
   "source": [
    "gauss.fit(X_train, y_train)"
   ]
  },
  {
   "cell_type": "markdown",
   "id": "8a5a6942",
   "metadata": {},
   "source": [
    "### Realizamos pronóstico (datos de prueba 30%)"
   ]
  },
  {
   "cell_type": "code",
   "execution_count": 33,
   "id": "5a64ff9b",
   "metadata": {},
   "outputs": [],
   "source": [
    "pronostico = gauss.predict(X_test)"
   ]
  },
  {
   "cell_type": "code",
   "execution_count": 34,
   "id": "0e43db58",
   "metadata": {},
   "outputs": [
    {
     "data": {
      "text/plain": [
       "array([0, 0, 0, ..., 0, 0, 0], dtype=int64)"
      ]
     },
     "execution_count": 34,
     "metadata": {},
     "output_type": "execute_result"
    }
   ],
   "source": [
    "pronostico"
   ]
  },
  {
   "cell_type": "markdown",
   "id": "c25963c6",
   "metadata": {},
   "source": [
    "### Calculamos la eficacia del modelo"
   ]
  },
  {
   "cell_type": "code",
   "execution_count": 35,
   "id": "b084d520",
   "metadata": {},
   "outputs": [
    {
     "name": "stdout",
     "output_type": "stream",
     "text": [
      "0.964\n"
     ]
    }
   ],
   "source": [
    "print (gauss.score(X_test,y_test))"
   ]
  },
  {
   "cell_type": "code",
   "execution_count": 36,
   "id": "c1780cea",
   "metadata": {},
   "outputs": [
    {
     "data": {
      "text/plain": [
       "array([[2873,   34],\n",
       "       [  74,   19]], dtype=int64)"
      ]
     },
     "execution_count": 36,
     "metadata": {},
     "output_type": "execute_result"
    }
   ],
   "source": [
    "confusion_matrix(y_test, pronostico)"
   ]
  },
  {
   "cell_type": "markdown",
   "id": "5898340c",
   "metadata": {},
   "source": [
    "### El modelo ya entrenado y probado podemos utilizarlo para \n",
    "### pronosticar valores de datos nuevos (de los que no conocemos \n",
    "### la necesidad de mantenimiento)\n",
    "### usaríamos:\n",
    "### pronostico_nuevos = gauss.predict(datos_nuevos)"
   ]
  },
  {
   "cell_type": "markdown",
   "id": "55c110fa",
   "metadata": {},
   "source": [
    "## Modelo 2 (estandarizado)"
   ]
  },
  {
   "cell_type": "code",
   "execution_count": 37,
   "id": "b8d63a36",
   "metadata": {},
   "outputs": [],
   "source": [
    "estandariza = StandardScaler()"
   ]
  },
  {
   "cell_type": "code",
   "execution_count": 38,
   "id": "915ff321",
   "metadata": {},
   "outputs": [],
   "source": [
    "X_train2 = estandariza.fit_transform(X_train)\n",
    "X_test2 = estandariza.fit_transform(X_test)"
   ]
  },
  {
   "cell_type": "code",
   "execution_count": 39,
   "id": "e987b939",
   "metadata": {},
   "outputs": [
    {
     "data": {
      "text/plain": [
       "GaussianNB()"
      ]
     },
     "execution_count": 39,
     "metadata": {},
     "output_type": "execute_result"
    }
   ],
   "source": [
    "gauss.fit(X_train2, y_train)"
   ]
  },
  {
   "cell_type": "code",
   "execution_count": 40,
   "id": "25076eda",
   "metadata": {},
   "outputs": [],
   "source": [
    "pronostico = gauss.predict(X_test2)"
   ]
  },
  {
   "cell_type": "code",
   "execution_count": 41,
   "id": "fc0756be",
   "metadata": {},
   "outputs": [
    {
     "name": "stdout",
     "output_type": "stream",
     "text": [
      "0.9636666666666667\n"
     ]
    }
   ],
   "source": [
    "print (gauss.score(X_test2,y_test))"
   ]
  },
  {
   "cell_type": "code",
   "execution_count": 42,
   "id": "7542ec4f",
   "metadata": {},
   "outputs": [
    {
     "data": {
      "text/plain": [
       "array([[2871,   36],\n",
       "       [  73,   20]], dtype=int64)"
      ]
     },
     "execution_count": 42,
     "metadata": {},
     "output_type": "execute_result"
    }
   ],
   "source": [
    "confusion_matrix(y_test, pronostico)"
   ]
  },
  {
   "cell_type": "markdown",
   "id": "5974ea22",
   "metadata": {},
   "source": [
    "### Este segundo modelo es casi igual en cuanto su nivel de pronóstico, \n",
    "### es posible realizar más modelos agregando o quitando variables.  \n",
    "### Ambos modelos son buenos en la predicción en general, pero podría \n",
    "### interesarnos más la predicción de los que fallan o de los que no fallan."
   ]
  },
  {
   "cell_type": "code",
   "execution_count": null,
   "id": "4bd981af",
   "metadata": {},
   "outputs": [],
   "source": []
  }
 ],
 "metadata": {
  "kernelspec": {
   "display_name": "Python 3",
   "language": "python",
   "name": "python3"
  },
  "language_info": {
   "codemirror_mode": {
    "name": "ipython",
    "version": 3
   },
   "file_extension": ".py",
   "mimetype": "text/x-python",
   "name": "python",
   "nbconvert_exporter": "python",
   "pygments_lexer": "ipython3",
   "version": "3.9.5"
  }
 },
 "nbformat": 4,
 "nbformat_minor": 5
}
